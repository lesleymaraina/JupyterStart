{
 "cells": [
  {
   "cell_type": "markdown",
   "metadata": {},
   "source": [
    "# Getting Started with Jupyter"
   ]
  },
  {
   "cell_type": "markdown",
   "metadata": {},
   "source": [
    "### 1. Install Jupyter\n",
    "**Option 1: ** Install using conda"
   ]
  },
  {
   "cell_type": "markdown",
   "metadata": {},
   "source": [
    "$ conda install jupyter"
   ]
  },
  {
   "cell_type": "markdown",
   "metadata": {},
   "source": [
    "**Option 2: ** Install using pip\n",
    "https://ipython.org/install.html"
   ]
  },
  {
   "cell_type": "markdown",
   "metadata": {},
   "source": [
    "### 2. Open the Jupyter notebook from the terminal\n",
    "\n",
    "$ jupyter notebook"
   ]
  },
  {
   "cell_type": "markdown",
   "metadata": {},
   "source": [
    "### 3. Examples of Bash Commands in Jupyter"
   ]
  },
  {
   "cell_type": "code",
   "execution_count": 4,
   "metadata": {
    "collapsed": false
   },
   "outputs": [
    {
     "name": "stdout",
     "output_type": "stream",
     "text": [
      "AWS.pem                                iris.R\r\n",
      "\u001b[34mApplications\u001b[m\u001b[m/                          \u001b[34mnlopt\u001b[m\u001b[m/\r\n",
      "Bash Commands.ipynb                    \u001b[34mnlopt-2.4.2\u001b[m\u001b[m/\r\n",
      "\u001b[34mDesktop\u001b[m\u001b[m/                               nlopt-2.4.2.tar.gz\r\n",
      "\u001b[34mDocuments\u001b[m\u001b[m/                             semiSup.DataSubset.R\r\n",
      "\u001b[34mDownloads\u001b[m\u001b[m/                             \u001b[34msemisup-learn-master\u001b[m\u001b[m/\r\n",
      "\u001b[34mLibrary\u001b[m\u001b[m/                               server.R\r\n",
      "\u001b[34mMovies\u001b[m\u001b[m/                                server2.r\r\n",
      "\u001b[34mMusic\u001b[m\u001b[m/                                 server4.R\r\n",
      "\u001b[34mPictures\u001b[m\u001b[m/                              server7.R\r\n",
      "\u001b[34mPublic\u001b[m\u001b[m/                                smallSV.MeanShift.Rmd\r\n",
      "\u001b[34mPycharmProjects\u001b[m\u001b[m/                       smallSV.MeanShift.html\r\n",
      "\u001b[34mR-dev\u001b[m\u001b[m/                                 smallSV.subset.MeanShift.Rmd\r\n",
      "Rmarkdown.Example.Rmd                  \u001b[34mswig-3.0.10\u001b[m\u001b[m/\r\n",
      "Rmarkdown1.Rmd                         try.py\r\n",
      "Rmarkdown1.html                        try10.py\r\n",
      "SV.semi.R                              try11.py\r\n",
      "SV3.csv                                try12.py\r\n",
      "SV3.use.csv                            try13.py\r\n",
      "SV4.csv                                try14.py\r\n",
      "UI2.r                                  try15.py\r\n",
      "Untitled.ipynb                         try16.py\r\n",
      "Wor.csv                                try17.py\r\n",
      "\u001b[34manaconda\u001b[m\u001b[m/                              try18.py\r\n",
      "app.R                                  try19.py\r\n",
      "capture.csv                            try2.py\r\n",
      "capture.txt                            try20.py\r\n",
      "clusterable_data.npy                   try3.py\r\n",
      "codeDiamonds.csv                       try4.py\r\n",
      "constrained_kmeans.py                  try5.py\r\n",
      "crowd.csv                              try6.py\r\n",
      "crowded.xlsx                           try7.py\r\n",
      "dbscan_wholesale.png                   try8.py\r\n",
      "diamonds.csv                           ui.R\r\n",
      "foo.csv                                upclass.Test2.R\r\n",
      "from frameworks.SelfLearning import *  upclassTest.R\r\n",
      "gfortran-4.8.2-darwin13.tar.bz2        wholesale.png\r\n",
      "global.r                               wine.csv\r\n",
      "hclust.Sept27.Rmd                      wine.txt\r\n",
      "hclust.Sept27.html                     winecopy.txt\r\n",
      "\u001b[34minstall\u001b[m\u001b[m/\r\n"
     ]
    }
   ],
   "source": [
    "ls"
   ]
  },
  {
   "cell_type": "code",
   "execution_count": 5,
   "metadata": {
    "collapsed": false
   },
   "outputs": [
    {
     "data": {
      "text/plain": [
       "['Filesystem      Size   Used  Avail Capacity  iused     ifree %iused  Mounted on',\n",
       " '/dev/disk1     465Gi   50Gi  414Gi    11% 13280497 108559117   11%   /',\n",
       " 'devfs          186Ki  186Ki    0Bi   100%      644         0  100%   /dev',\n",
       " 'map -hosts       0Bi    0Bi    0Bi   100%        0         0  100%   /net',\n",
       " 'map auto_home    0Bi    0Bi    0Bi   100%        0         0  100%   /home']"
      ]
     },
     "execution_count": 5,
     "metadata": {},
     "output_type": "execute_result"
    }
   ],
   "source": [
    "df_out = !df -h\n",
    "df_out"
   ]
  },
  {
   "cell_type": "code",
   "execution_count": 6,
   "metadata": {
    "collapsed": false
   },
   "outputs": [
    {
     "data": {
      "text/plain": [
       "IPython.utils.text.SList"
      ]
     },
     "execution_count": 6,
     "metadata": {},
     "output_type": "execute_result"
    }
   ],
   "source": [
    "type(df_out)"
   ]
  },
  {
   "cell_type": "code",
   "execution_count": 7,
   "metadata": {
    "collapsed": false
   },
   "outputs": [
    {
     "data": {
      "text/plain": [
       "'216.58.219.228'"
      ]
     },
     "execution_count": 7,
     "metadata": {},
     "output_type": "execute_result"
    }
   ],
   "source": [
    "google_a=!dig A www.google.com\n",
    "google_a.grep('^www').fields(-1).s"
   ]
  },
  {
   "cell_type": "code",
   "execution_count": 8,
   "metadata": {
    "collapsed": false
   },
   "outputs": [
    {
     "name": "stdout",
     "output_type": "stream",
     "text": [
      "228.219.58.216.in-addr.arpa domain name pointer lga25s41-in-f4.1e100.net.\r\n",
      "228.219.58.216.in-addr.arpa domain name pointer lga25s41-in-f228.1e100.net.\r\n"
     ]
    }
   ],
   "source": [
    "for ip in google_a.grep('^www').fields(-1):\n",
    "       !host {ip}"
   ]
  },
  {
   "cell_type": "markdown",
   "metadata": {},
   "source": [
    "#### Resource\n",
    "https://www.safaribooksonline.com/blog/2014/02/12/using-shell-commands-effectively-ipython/"
   ]
  }
 ],
 "metadata": {
  "kernelspec": {
   "display_name": "Python [Root]",
   "language": "python",
   "name": "Python [Root]"
  },
  "language_info": {
   "codemirror_mode": {
    "name": "ipython",
    "version": 2
   },
   "file_extension": ".py",
   "mimetype": "text/x-python",
   "name": "python",
   "nbconvert_exporter": "python",
   "pygments_lexer": "ipython2",
   "version": "2.7.12"
  }
 },
 "nbformat": 4,
 "nbformat_minor": 0
}
